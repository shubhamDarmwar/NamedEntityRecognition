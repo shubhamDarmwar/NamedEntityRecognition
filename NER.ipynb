{
 "cells": [
  {
   "cell_type": "markdown",
   "metadata": {},
   "source": [
    "https://towardsdatascience.com/train-ner-with-custom-training-data-using-spacy-525ce748fab7"
   ]
  },
  {
   "cell_type": "code",
   "execution_count": 2,
   "metadata": {},
   "outputs": [],
   "source": [
    "import spacy\n",
    "import pandas as pd\n"
   ]
  },
  {
   "cell_type": "code",
   "execution_count": 8,
   "metadata": {},
   "outputs": [],
   "source": [
    "dataFrame = pd.read_csv(\"ner_dataset.csv\", encoding='latin-1')"
   ]
  },
  {
   "cell_type": "code",
   "execution_count": 29,
   "metadata": {},
   "outputs": [],
   "source": [
    "df = dataFrame.head(56)"
   ]
  },
  {
   "cell_type": "code",
   "execution_count": 30,
   "metadata": {},
   "outputs": [],
   "source": [
    "def process_data(df):\n",
    "    df.loc[:, \"Sentence #\"] = df[\"Sentence #\"].fillna(method=\"ffill\")\n",
    "    sentences = df.groupby(\"Sentence #\")[\"Word\"].apply(list).values\n",
    "    tag = df.groupby(\"Sentence #\")[\"Tag\"].apply(list).values\n",
    "    return sentences, tag"
   ]
  },
  {
   "cell_type": "code",
   "execution_count": 31,
   "metadata": {},
   "outputs": [
    {
     "name": "stderr",
     "output_type": "stream",
     "text": [
      "//anaconda3/lib/python3.7/site-packages/pandas/core/indexing.py:576: SettingWithCopyWarning: \n",
      "A value is trying to be set on a copy of a slice from a DataFrame.\n",
      "Try using .loc[row_indexer,col_indexer] = value instead\n",
      "\n",
      "See the caveats in the documentation: http://pandas.pydata.org/pandas-docs/stable/user_guide/indexing.html#returning-a-view-versus-a-copy\n",
      "  self.obj[item_labels[indexer[info_axis]]] = value\n"
     ]
    },
    {
     "data": {
      "text/plain": [
       "(array([list(['Thousands', 'of', 'demonstrators', 'have', 'marched', 'through', 'London', 'to', 'protest', 'the', 'war', 'in', 'Iraq', 'and', 'demand', 'the', 'withdrawal', 'of', 'British', 'troops', 'from', 'that', 'country', '.']),\n",
       "        list(['Families', 'of', 'soldiers', 'killed', 'in', 'the', 'conflict', 'joined', 'the', 'protesters', 'who', 'carried', 'banners', 'with', 'such', 'slogans', 'as', '\"', 'Bush', 'Number', 'One', 'Terrorist', '\"', 'and', '\"', 'Stop', 'the', 'Bombings', '.', '\"']),\n",
       "        list(['They', 'marched'])], dtype=object),\n",
       " array([list(['O', 'O', 'O', 'O', 'O', 'O', 'B-geo', 'O', 'O', 'O', 'O', 'O', 'B-geo', 'O', 'O', 'O', 'O', 'O', 'B-gpe', 'O', 'O', 'O', 'O', 'O']),\n",
       "        list(['O', 'O', 'O', 'O', 'O', 'O', 'O', 'O', 'O', 'O', 'O', 'O', 'O', 'O', 'O', 'O', 'O', 'O', 'B-per', 'O', 'O', 'O', 'O', 'O', 'O', 'O', 'O', 'O', 'O', 'O']),\n",
       "        list(['O', 'O'])], dtype=object))"
      ]
     },
     "execution_count": 31,
     "metadata": {},
     "output_type": "execute_result"
    }
   ],
   "source": [
    "process_data(df)"
   ]
  },
  {
   "cell_type": "code",
   "execution_count": 28,
   "metadata": {
    "collapsed": true
   },
   "outputs": [
    {
     "data": {
      "text/html": [
       "<div>\n",
       "<style scoped>\n",
       "    .dataframe tbody tr th:only-of-type {\n",
       "        vertical-align: middle;\n",
       "    }\n",
       "\n",
       "    .dataframe tbody tr th {\n",
       "        vertical-align: top;\n",
       "    }\n",
       "\n",
       "    .dataframe thead th {\n",
       "        text-align: right;\n",
       "    }\n",
       "</style>\n",
       "<table border=\"1\" class=\"dataframe\">\n",
       "  <thead>\n",
       "    <tr style=\"text-align: right;\">\n",
       "      <th></th>\n",
       "      <th>Sentence #</th>\n",
       "      <th>Word</th>\n",
       "      <th>POS</th>\n",
       "      <th>Tag</th>\n",
       "    </tr>\n",
       "  </thead>\n",
       "  <tbody>\n",
       "    <tr>\n",
       "      <td>0</td>\n",
       "      <td>Sentence: 1</td>\n",
       "      <td>Thousands</td>\n",
       "      <td>NNS</td>\n",
       "      <td>O</td>\n",
       "    </tr>\n",
       "    <tr>\n",
       "      <td>1</td>\n",
       "      <td>Sentence: 1</td>\n",
       "      <td>of</td>\n",
       "      <td>IN</td>\n",
       "      <td>O</td>\n",
       "    </tr>\n",
       "    <tr>\n",
       "      <td>2</td>\n",
       "      <td>Sentence: 1</td>\n",
       "      <td>demonstrators</td>\n",
       "      <td>NNS</td>\n",
       "      <td>O</td>\n",
       "    </tr>\n",
       "    <tr>\n",
       "      <td>3</td>\n",
       "      <td>Sentence: 1</td>\n",
       "      <td>have</td>\n",
       "      <td>VBP</td>\n",
       "      <td>O</td>\n",
       "    </tr>\n",
       "    <tr>\n",
       "      <td>4</td>\n",
       "      <td>Sentence: 1</td>\n",
       "      <td>marched</td>\n",
       "      <td>VBN</td>\n",
       "      <td>O</td>\n",
       "    </tr>\n",
       "    <tr>\n",
       "      <td>5</td>\n",
       "      <td>Sentence: 1</td>\n",
       "      <td>through</td>\n",
       "      <td>IN</td>\n",
       "      <td>O</td>\n",
       "    </tr>\n",
       "    <tr>\n",
       "      <td>6</td>\n",
       "      <td>Sentence: 1</td>\n",
       "      <td>London</td>\n",
       "      <td>NNP</td>\n",
       "      <td>B-geo</td>\n",
       "    </tr>\n",
       "    <tr>\n",
       "      <td>7</td>\n",
       "      <td>Sentence: 1</td>\n",
       "      <td>to</td>\n",
       "      <td>TO</td>\n",
       "      <td>O</td>\n",
       "    </tr>\n",
       "    <tr>\n",
       "      <td>8</td>\n",
       "      <td>Sentence: 1</td>\n",
       "      <td>protest</td>\n",
       "      <td>VB</td>\n",
       "      <td>O</td>\n",
       "    </tr>\n",
       "    <tr>\n",
       "      <td>9</td>\n",
       "      <td>Sentence: 1</td>\n",
       "      <td>the</td>\n",
       "      <td>DT</td>\n",
       "      <td>O</td>\n",
       "    </tr>\n",
       "    <tr>\n",
       "      <td>10</td>\n",
       "      <td>Sentence: 1</td>\n",
       "      <td>war</td>\n",
       "      <td>NN</td>\n",
       "      <td>O</td>\n",
       "    </tr>\n",
       "    <tr>\n",
       "      <td>11</td>\n",
       "      <td>Sentence: 1</td>\n",
       "      <td>in</td>\n",
       "      <td>IN</td>\n",
       "      <td>O</td>\n",
       "    </tr>\n",
       "    <tr>\n",
       "      <td>12</td>\n",
       "      <td>Sentence: 1</td>\n",
       "      <td>Iraq</td>\n",
       "      <td>NNP</td>\n",
       "      <td>B-geo</td>\n",
       "    </tr>\n",
       "    <tr>\n",
       "      <td>13</td>\n",
       "      <td>Sentence: 1</td>\n",
       "      <td>and</td>\n",
       "      <td>CC</td>\n",
       "      <td>O</td>\n",
       "    </tr>\n",
       "    <tr>\n",
       "      <td>14</td>\n",
       "      <td>Sentence: 1</td>\n",
       "      <td>demand</td>\n",
       "      <td>VB</td>\n",
       "      <td>O</td>\n",
       "    </tr>\n",
       "    <tr>\n",
       "      <td>15</td>\n",
       "      <td>Sentence: 1</td>\n",
       "      <td>the</td>\n",
       "      <td>DT</td>\n",
       "      <td>O</td>\n",
       "    </tr>\n",
       "    <tr>\n",
       "      <td>16</td>\n",
       "      <td>Sentence: 1</td>\n",
       "      <td>withdrawal</td>\n",
       "      <td>NN</td>\n",
       "      <td>O</td>\n",
       "    </tr>\n",
       "    <tr>\n",
       "      <td>17</td>\n",
       "      <td>Sentence: 1</td>\n",
       "      <td>of</td>\n",
       "      <td>IN</td>\n",
       "      <td>O</td>\n",
       "    </tr>\n",
       "    <tr>\n",
       "      <td>18</td>\n",
       "      <td>Sentence: 1</td>\n",
       "      <td>British</td>\n",
       "      <td>JJ</td>\n",
       "      <td>B-gpe</td>\n",
       "    </tr>\n",
       "    <tr>\n",
       "      <td>19</td>\n",
       "      <td>Sentence: 1</td>\n",
       "      <td>troops</td>\n",
       "      <td>NNS</td>\n",
       "      <td>O</td>\n",
       "    </tr>\n",
       "  </tbody>\n",
       "</table>\n",
       "</div>"
      ],
      "text/plain": [
       "     Sentence #           Word  POS    Tag\n",
       "0   Sentence: 1      Thousands  NNS      O\n",
       "1   Sentence: 1             of   IN      O\n",
       "2   Sentence: 1  demonstrators  NNS      O\n",
       "3   Sentence: 1           have  VBP      O\n",
       "4   Sentence: 1        marched  VBN      O\n",
       "5   Sentence: 1        through   IN      O\n",
       "6   Sentence: 1         London  NNP  B-geo\n",
       "7   Sentence: 1             to   TO      O\n",
       "8   Sentence: 1        protest   VB      O\n",
       "9   Sentence: 1            the   DT      O\n",
       "10  Sentence: 1            war   NN      O\n",
       "11  Sentence: 1             in   IN      O\n",
       "12  Sentence: 1           Iraq  NNP  B-geo\n",
       "13  Sentence: 1            and   CC      O\n",
       "14  Sentence: 1         demand   VB      O\n",
       "15  Sentence: 1            the   DT      O\n",
       "16  Sentence: 1     withdrawal   NN      O\n",
       "17  Sentence: 1             of   IN      O\n",
       "18  Sentence: 1        British   JJ  B-gpe\n",
       "19  Sentence: 1         troops  NNS      O"
      ]
     },
     "execution_count": 28,
     "metadata": {},
     "output_type": "execute_result"
    }
   ],
   "source": [
    "dataFrame.head(20)"
   ]
  },
  {
   "cell_type": "code",
   "execution_count": 32,
   "metadata": {},
   "outputs": [],
   "source": [
    "from __future__ import unicode_literals, print_function\n",
    "import plac\n",
    "import random\n",
    "from pathlib import Path\n",
    "import spacy\n",
    "from tqdm import tqdm"
   ]
  },
  {
   "cell_type": "code",
   "execution_count": 33,
   "metadata": {},
   "outputs": [],
   "source": [
    "TRAIN_DATA = [\n",
    "    ('Who is Nishanth?', {\n",
    "        'entities': [(7, 15, 'PERSON')]\n",
    "    }),\n",
    "     ('Who is Kamal Khumar?', {\n",
    "        'entities': [(7, 19, 'PERSON')]\n",
    "    }),\n",
    "    ('I like London and Berlin.', {\n",
    "        'entities': [(7, 13, 'LOC'), (18, 24, 'LOC')]\n",
    "    })\n",
    "]"
   ]
  },
  {
   "cell_type": "code",
   "execution_count": 34,
   "metadata": {},
   "outputs": [],
   "source": [
    "model = None\n",
    "output_dir=Path(\"ner\")\n",
    "n_iter=100"
   ]
  },
  {
   "cell_type": "code",
   "execution_count": 35,
   "metadata": {},
   "outputs": [
    {
     "name": "stdout",
     "output_type": "stream",
     "text": [
      "Created blank 'en' model\n"
     ]
    }
   ],
   "source": [
    "#load the model\n",
    "\n",
    "if model is not None:\n",
    "    nlp = spacy.load(model)  \n",
    "    print(\"Loaded model '%s'\" % model)\n",
    "else:\n",
    "    nlp = spacy.blank('en')  \n",
    "    print(\"Created blank 'en' model\")\n",
    "\n",
    "#set up the pipeline\n",
    "\n",
    "if 'ner' not in nlp.pipe_names:\n",
    "    ner = nlp.create_pipe('ner')\n",
    "    nlp.add_pipe(ner, last=True)\n",
    "else:\n",
    "    ner = nlp.get_pipe('ner')"
   ]
  },
  {
   "cell_type": "code",
   "execution_count": 36,
   "metadata": {},
   "outputs": [
    {
     "name": "stderr",
     "output_type": "stream",
     "text": [
      "100%|██████████| 3/3 [00:00<00:00, 48.22it/s]\n",
      "100%|██████████| 3/3 [00:00<00:00, 74.95it/s]\n",
      "100%|██████████| 3/3 [00:00<00:00, 80.89it/s]\n",
      "100%|██████████| 3/3 [00:00<00:00, 76.86it/s]\n",
      "100%|██████████| 3/3 [00:00<00:00, 81.45it/s]\n",
      "100%|██████████| 3/3 [00:00<00:00, 80.48it/s]\n",
      "  0%|          | 0/3 [00:00<?, ?it/s]"
     ]
    },
    {
     "name": "stdout",
     "output_type": "stream",
     "text": [
      "{'ner': 13.317753493785858}\n",
      "{'ner': 12.119819581508636}\n",
      "{'ner': 11.142244428396225}\n",
      "{'ner': 10.148663520812988}\n",
      "{'ner': 7.97254104167223}\n",
      "{'ner': 7.1288202833384275}\n"
     ]
    },
    {
     "name": "stderr",
     "output_type": "stream",
     "text": [
      "100%|██████████| 3/3 [00:00<00:00, 70.71it/s]\n",
      "100%|██████████| 3/3 [00:00<00:00, 58.75it/s]\n",
      "100%|██████████| 3/3 [00:00<00:00, 74.45it/s]\n",
      "100%|██████████| 3/3 [00:00<00:00, 64.27it/s]\n",
      "100%|██████████| 3/3 [00:00<00:00, 70.46it/s]\n",
      "  0%|          | 0/3 [00:00<?, ?it/s]"
     ]
    },
    {
     "name": "stdout",
     "output_type": "stream",
     "text": [
      "{'ner': 5.6652601305395365}\n",
      "{'ner': 6.044148804736324}\n",
      "{'ner': 6.832673414144665}\n",
      "{'ner': 6.5430102195823565}\n",
      "{'ner': 6.306748951901682}\n"
     ]
    },
    {
     "name": "stderr",
     "output_type": "stream",
     "text": [
      "100%|██████████| 3/3 [00:00<00:00, 60.78it/s]\n",
      "100%|██████████| 3/3 [00:00<00:00, 69.17it/s]\n",
      "100%|██████████| 3/3 [00:00<00:00, 75.32it/s]\n",
      "100%|██████████| 3/3 [00:00<00:00, 64.60it/s]\n",
      "100%|██████████| 3/3 [00:00<00:00, 69.17it/s]\n",
      "  0%|          | 0/3 [00:00<?, ?it/s]"
     ]
    },
    {
     "name": "stdout",
     "output_type": "stream",
     "text": [
      "{'ner': 4.776247605797835}\n",
      "{'ner': 5.425092695048079}\n",
      "{'ner': 4.591697333846241}\n",
      "{'ner': 3.6688542225165293}\n",
      "{'ner': 5.114266253964161}\n"
     ]
    },
    {
     "name": "stderr",
     "output_type": "stream",
     "text": [
      "100%|██████████| 3/3 [00:00<00:00, 78.01it/s]\n",
      "100%|██████████| 3/3 [00:00<00:00, 75.51it/s]\n",
      "100%|██████████| 3/3 [00:00<00:00, 79.00it/s]\n",
      "100%|██████████| 3/3 [00:00<00:00, 79.97it/s]\n",
      "100%|██████████| 3/3 [00:00<00:00, 79.70it/s]\n",
      "  0%|          | 0/3 [00:00<?, ?it/s]"
     ]
    },
    {
     "name": "stdout",
     "output_type": "stream",
     "text": [
      "{'ner': 4.245966509217396}\n",
      "{'ner': 3.4251580655118232}\n",
      "{'ner': 3.6462248960888246}\n",
      "{'ner': 5.7501596358197276}\n",
      "{'ner': 4.427834743284052}\n"
     ]
    },
    {
     "name": "stderr",
     "output_type": "stream",
     "text": [
      "100%|██████████| 3/3 [00:00<00:00, 59.43it/s]\n",
      "100%|██████████| 3/3 [00:00<00:00, 71.94it/s]\n",
      "100%|██████████| 3/3 [00:00<00:00, 79.43it/s]\n",
      "100%|██████████| 3/3 [00:00<00:00, 81.88it/s]\n",
      "100%|██████████| 3/3 [00:00<00:00, 71.94it/s]\n",
      "  0%|          | 0/3 [00:00<?, ?it/s]"
     ]
    },
    {
     "name": "stdout",
     "output_type": "stream",
     "text": [
      "{'ner': 4.047945205211363}\n",
      "{'ner': 3.871515908014999}\n",
      "{'ner': 3.919908962029524}\n",
      "{'ner': 2.293411441628905}\n",
      "{'ner': 2.2003575233782726}\n"
     ]
    },
    {
     "name": "stderr",
     "output_type": "stream",
     "text": [
      "100%|██████████| 3/3 [00:00<00:00, 78.47it/s]\n",
      "100%|██████████| 3/3 [00:00<00:00, 82.18it/s]\n",
      "100%|██████████| 3/3 [00:00<00:00, 79.86it/s]\n",
      "100%|██████████| 3/3 [00:00<00:00, 80.27it/s]\n",
      "100%|██████████| 3/3 [00:00<00:00, 77.32it/s]\n",
      "100%|██████████| 3/3 [00:00<00:00, 75.23it/s]\n",
      "  0%|          | 0/3 [00:00<?, ?it/s]"
     ]
    },
    {
     "name": "stdout",
     "output_type": "stream",
     "text": [
      "{'ner': 2.182798518684706}\n",
      "{'ner': 1.3132185123467934}\n",
      "{'ner': 1.8508750866267718}\n",
      "{'ner': 1.5298049741852189}\n",
      "{'ner': 1.4373662451419666}\n",
      "{'ner': 1.2785954473490992}\n"
     ]
    },
    {
     "name": "stderr",
     "output_type": "stream",
     "text": [
      "100%|██████████| 3/3 [00:00<00:00, 72.57it/s]\n",
      "100%|██████████| 3/3 [00:00<00:00, 76.77it/s]\n",
      "100%|██████████| 3/3 [00:00<00:00, 82.92it/s]\n",
      "100%|██████████| 3/3 [00:00<00:00, 81.78it/s]\n",
      "100%|██████████| 3/3 [00:00<00:00, 69.65it/s]\n",
      "  0%|          | 0/3 [00:00<?, ?it/s]"
     ]
    },
    {
     "name": "stdout",
     "output_type": "stream",
     "text": [
      "{'ner': 2.330505256601522}\n",
      "{'ner': 0.7372974952192792}\n",
      "{'ner': 0.8946849017561925}\n",
      "{'ner': 1.2896130412129194}\n",
      "{'ner': 0.5467738652193446}\n"
     ]
    },
    {
     "name": "stderr",
     "output_type": "stream",
     "text": [
      "100%|██████████| 3/3 [00:00<00:00, 66.12it/s]\n",
      "100%|██████████| 3/3 [00:00<00:00, 71.34it/s]\n",
      "100%|██████████| 3/3 [00:00<00:00, 81.06it/s]\n",
      "100%|██████████| 3/3 [00:00<00:00, 80.75it/s]\n",
      "100%|██████████| 3/3 [00:00<00:00, 81.71it/s]\n",
      "100%|██████████| 3/3 [00:00<00:00, 78.98it/s]\n",
      "  0%|          | 0/3 [00:00<?, ?it/s]"
     ]
    },
    {
     "name": "stdout",
     "output_type": "stream",
     "text": [
      "{'ner': 1.5461249794129919}\n",
      "{'ner': 1.8683437221252204}\n",
      "{'ner': 0.8823877909976808}\n",
      "{'ner': 2.449752368150347}\n",
      "{'ner': 1.4724401673417098}\n",
      "{'ner': 0.1890140961215873}\n"
     ]
    },
    {
     "name": "stderr",
     "output_type": "stream",
     "text": [
      "100%|██████████| 3/3 [00:00<00:00, 72.73it/s]\n",
      "100%|██████████| 3/3 [00:00<00:00, 71.88it/s]\n",
      "100%|██████████| 3/3 [00:00<00:00, 80.22it/s]\n",
      "100%|██████████| 3/3 [00:00<00:00, 76.52it/s]\n",
      "100%|██████████| 3/3 [00:00<00:00, 79.65it/s]\n",
      "  0%|          | 0/3 [00:00<?, ?it/s]"
     ]
    },
    {
     "name": "stdout",
     "output_type": "stream",
     "text": [
      "{'ner': 1.0235889843135275}\n",
      "{'ner': 0.7491107530193777}\n",
      "{'ner': 0.005551131952855893}\n",
      "{'ner': 0.35833845343612386}\n",
      "{'ner': 0.013424686670155336}\n"
     ]
    },
    {
     "name": "stderr",
     "output_type": "stream",
     "text": [
      "100%|██████████| 3/3 [00:00<00:00, 78.25it/s]\n",
      "100%|██████████| 3/3 [00:00<00:00, 83.10it/s]\n",
      "100%|██████████| 3/3 [00:00<00:00, 79.64it/s]\n",
      "100%|██████████| 3/3 [00:00<00:00, 86.95it/s]\n",
      "100%|██████████| 3/3 [00:00<00:00, 82.24it/s]\n",
      "100%|██████████| 3/3 [00:00<00:00, 81.84it/s]\n",
      "  0%|          | 0/3 [00:00<?, ?it/s]"
     ]
    },
    {
     "name": "stdout",
     "output_type": "stream",
     "text": [
      "{'ner': 0.0003207497052871136}\n",
      "{'ner': 0.013376293522545149}\n",
      "{'ner': 0.0277798999572299}\n",
      "{'ner': 0.007128732277459584}\n",
      "{'ner': 0.0002743818835364948}\n",
      "{'ner': 0.0003179615532773738}\n"
     ]
    },
    {
     "name": "stderr",
     "output_type": "stream",
     "text": [
      "100%|██████████| 3/3 [00:00<00:00, 82.27it/s]\n",
      "100%|██████████| 3/3 [00:00<00:00, 83.55it/s]\n",
      "100%|██████████| 3/3 [00:00<00:00, 80.80it/s]\n",
      "100%|██████████| 3/3 [00:00<00:00, 77.54it/s]\n",
      "100%|██████████| 3/3 [00:00<00:00, 79.67it/s]\n",
      "100%|██████████| 3/3 [00:00<00:00, 80.53it/s]\n",
      "  0%|          | 0/3 [00:00<?, ?it/s]"
     ]
    },
    {
     "name": "stdout",
     "output_type": "stream",
     "text": [
      "{'ner': 1.0115581959413447e-05}\n",
      "{'ner': 0.0015211673554762157}\n",
      "{'ner': 1.9664212346691426e-05}\n",
      "{'ner': 0.0004162777862635708}\n",
      "{'ner': 0.002779375233501777}\n",
      "{'ner': 0.0007966912252734382}\n"
     ]
    },
    {
     "name": "stderr",
     "output_type": "stream",
     "text": [
      "100%|██████████| 3/3 [00:00<00:00, 76.51it/s]\n",
      "100%|██████████| 3/3 [00:00<00:00, 78.38it/s]\n",
      "100%|██████████| 3/3 [00:00<00:00, 82.44it/s]\n",
      "100%|██████████| 3/3 [00:00<00:00, 79.89it/s]\n",
      "100%|██████████| 3/3 [00:00<00:00, 80.67it/s]\n",
      "100%|██████████| 3/3 [00:00<00:00, 86.42it/s]\n",
      "  0%|          | 0/3 [00:00<?, ?it/s]"
     ]
    },
    {
     "name": "stdout",
     "output_type": "stream",
     "text": [
      "{'ner': 0.0847514820156729}\n",
      "{'ner': 1.2742057094235788e-06}\n",
      "{'ner': 0.0023378104959059943}\n",
      "{'ner': 1.0780765785097596e-05}\n",
      "{'ner': 1.2021903894631077e-07}\n",
      "{'ner': 2.2627411731187325e-06}\n"
     ]
    },
    {
     "name": "stderr",
     "output_type": "stream",
     "text": [
      "100%|██████████| 3/3 [00:00<00:00, 82.03it/s]\n",
      "100%|██████████| 3/3 [00:00<00:00, 85.43it/s]\n",
      "100%|██████████| 3/3 [00:00<00:00, 83.04it/s]\n",
      "100%|██████████| 3/3 [00:00<00:00, 62.16it/s]\n",
      "100%|██████████| 3/3 [00:00<00:00, 53.06it/s]\n",
      "  0%|          | 0/3 [00:00<?, ?it/s]"
     ]
    },
    {
     "name": "stdout",
     "output_type": "stream",
     "text": [
      "{'ner': 1.4045629820977998e-05}\n",
      "{'ner': 7.432769053871193e-05}\n",
      "{'ner': 0.005003195414424603}\n",
      "{'ner': 0.0171814400690817}\n",
      "{'ner': 2.8613166353281385e-05}\n"
     ]
    },
    {
     "name": "stderr",
     "output_type": "stream",
     "text": [
      "100%|██████████| 3/3 [00:00<00:00, 57.90it/s]\n",
      "100%|██████████| 3/3 [00:00<00:00, 62.79it/s]\n",
      "100%|██████████| 3/3 [00:00<00:00, 63.10it/s]\n",
      "100%|██████████| 3/3 [00:00<00:00, 84.88it/s]\n",
      "100%|██████████| 3/3 [00:00<00:00, 78.52it/s]\n",
      "  0%|          | 0/3 [00:00<?, ?it/s]"
     ]
    },
    {
     "name": "stdout",
     "output_type": "stream",
     "text": [
      "{'ner': 0.0012137735595901524}\n",
      "{'ner': 2.228268114784656e-06}\n",
      "{'ner': 4.200158453346693e-08}\n",
      "{'ner': 0.00014564561535326248}\n",
      "{'ner': 2.836488098308766e-06}\n"
     ]
    },
    {
     "name": "stderr",
     "output_type": "stream",
     "text": [
      "100%|██████████| 3/3 [00:00<00:00, 71.53it/s]\n",
      "100%|██████████| 3/3 [00:00<00:00, 77.55it/s]\n",
      "100%|██████████| 3/3 [00:00<00:00, 72.93it/s]\n",
      "100%|██████████| 3/3 [00:00<00:00, 76.19it/s]\n",
      "100%|██████████| 3/3 [00:00<00:00, 81.31it/s]\n",
      "100%|██████████| 3/3 [00:00<00:00, 80.12it/s]"
     ]
    },
    {
     "name": "stdout",
     "output_type": "stream",
     "text": [
      "{'ner': 2.6336718143419938e-05}\n",
      "{'ner': 3.5643257486381937e-06}\n",
      "{'ner': 5.547387742392952e-05}\n",
      "{'ner': 0.002224006405558955}\n",
      "{'ner': 3.0145070988877903e-05}\n"
     ]
    },
    {
     "name": "stderr",
     "output_type": "stream",
     "text": [
      "\n",
      "100%|██████████| 3/3 [00:00<00:00, 74.66it/s]\n",
      "100%|██████████| 3/3 [00:00<00:00, 81.53it/s]\n",
      "100%|██████████| 3/3 [00:00<00:00, 81.11it/s]\n",
      "100%|██████████| 3/3 [00:00<00:00, 82.52it/s]\n",
      "100%|██████████| 3/3 [00:00<00:00, 83.63it/s]\n",
      "100%|██████████| 3/3 [00:00<00:00, 81.78it/s]\n",
      "  0%|          | 0/3 [00:00<?, ?it/s]"
     ]
    },
    {
     "name": "stdout",
     "output_type": "stream",
     "text": [
      "{'ner': 3.2222338219929534e-06}\n",
      "{'ner': 0.00031975260760609307}\n",
      "{'ner': 5.691784379430317e-08}\n",
      "{'ner': 0.0003252306964599801}\n",
      "{'ner': 1.5267682444378834e-05}\n",
      "{'ner': 1.6868878884342997e-07}\n",
      "{'ner': 2.405963902392367e-07}\n"
     ]
    },
    {
     "name": "stderr",
     "output_type": "stream",
     "text": [
      "100%|██████████| 3/3 [00:00<00:00, 77.51it/s]\n",
      "100%|██████████| 3/3 [00:00<00:00, 80.75it/s]\n",
      "100%|██████████| 3/3 [00:00<00:00, 83.18it/s]\n",
      "100%|██████████| 3/3 [00:00<00:00, 81.81it/s]\n",
      "100%|██████████| 3/3 [00:00<00:00, 82.90it/s]\n",
      "100%|██████████| 3/3 [00:00<00:00, 83.08it/s]\n",
      "  0%|          | 0/3 [00:00<?, ?it/s]"
     ]
    },
    {
     "name": "stdout",
     "output_type": "stream",
     "text": [
      "{'ner': 2.788262474326089e-07}\n",
      "{'ner': 8.089289319441023e-07}\n",
      "{'ner': 1.0511700901597741e-08}\n",
      "{'ner': 1.8575960879516996e-10}\n",
      "{'ner': 1.1304989067051499e-09}\n",
      "{'ner': 9.736886482698609e-07}\n"
     ]
    },
    {
     "name": "stderr",
     "output_type": "stream",
     "text": [
      "100%|██████████| 3/3 [00:00<00:00, 79.24it/s]\n",
      "100%|██████████| 3/3 [00:00<00:00, 77.69it/s]\n",
      "100%|██████████| 3/3 [00:00<00:00, 81.18it/s]\n",
      "100%|██████████| 3/3 [00:00<00:00, 83.37it/s]\n",
      "100%|██████████| 3/3 [00:00<00:00, 82.37it/s]\n",
      "100%|██████████| 3/3 [00:00<00:00, 80.68it/s]"
     ]
    },
    {
     "name": "stdout",
     "output_type": "stream",
     "text": [
      "{'ner': 1.1801765026897642e-08}\n",
      "{'ner': 0.001168346081720464}\n",
      "{'ner': 1.8647931893978814e-07}\n",
      "{'ner': 0.00039354127274736643}\n",
      "{'ner': 8.090516324911744e-06}\n",
      "{'ner': 1.4073367038472735e-08}\n"
     ]
    },
    {
     "name": "stderr",
     "output_type": "stream",
     "text": [
      "\n"
     ]
    }
   ],
   "source": [
    "for _, annotations in TRAIN_DATA:\n",
    "    for ent in annotations.get('entities'):\n",
    "        ner.add_label(ent[2])\n",
    "\n",
    "other_pipes = [pipe for pipe in nlp.pipe_names if pipe != 'ner']\n",
    "with nlp.disable_pipes(*other_pipes):  # only train NER\n",
    "    optimizer = nlp.begin_training()\n",
    "    for itn in range(n_iter):\n",
    "        random.shuffle(TRAIN_DATA)\n",
    "        losses = {}\n",
    "        for text, annotations in tqdm(TRAIN_DATA):\n",
    "            nlp.update(\n",
    "                [text],  \n",
    "                [annotations],  \n",
    "                drop=0.5,  \n",
    "                sgd=optimizer,\n",
    "                losses=losses)\n",
    "        print(losses)"
   ]
  },
  {
   "cell_type": "code",
   "execution_count": 37,
   "metadata": {},
   "outputs": [
    {
     "name": "stdout",
     "output_type": "stream",
     "text": [
      "Entities [('London', 'LOC'), ('Berlin', 'LOC')]\n",
      "Entities [('Kamal Khumar', 'PERSON')]\n",
      "Entities [('Nishanth', 'PERSON')]\n"
     ]
    }
   ],
   "source": [
    "\n",
    "for text, _ in TRAIN_DATA:\n",
    "    doc = nlp(text)\n",
    "    print('Entities', [(ent.text, ent.label_) for ent in doc.ents])"
   ]
  },
  {
   "cell_type": "code",
   "execution_count": 38,
   "metadata": {
    "scrolled": true
   },
   "outputs": [
    {
     "name": "stdout",
     "output_type": "stream",
     "text": [
      "Saved model to ner\n"
     ]
    }
   ],
   "source": [
    "if output_dir is not None:\n",
    "    output_dir = Path(output_dir)\n",
    "    if not output_dir.exists():\n",
    "        output_dir.mkdir()\n",
    "    nlp.to_disk(output_dir)\n",
    "    print(\"Saved model to\", output_dir)"
   ]
  }
 ],
 "metadata": {
  "kernelspec": {
   "display_name": "Python 3",
   "language": "python",
   "name": "python3"
  },
  "language_info": {
   "codemirror_mode": {
    "name": "ipython",
    "version": 3
   },
   "file_extension": ".py",
   "mimetype": "text/x-python",
   "name": "python",
   "nbconvert_exporter": "python",
   "pygments_lexer": "ipython3",
   "version": "3.7.3"
  }
 },
 "nbformat": 4,
 "nbformat_minor": 2
}
